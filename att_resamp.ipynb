{
 "cells": [
  {
   "cell_type": "code",
   "execution_count": 1178,
   "id": "51c00724",
   "metadata": {
    "cellId": "yscfyiiain3q23z702vze"
   },
   "outputs": [],
   "source": [
    "#!g1.1\n",
    "import numpy as np\n",
    "import pandas as pd\n",
    "import torch\n",
    "from torchvision import datasets, transforms\n",
    "from torch.utils.data import TensorDataset, DataLoader\n",
    "import torch.nn as nn\n",
    "import torch.nn.functional as func\n",
    "import torch.optim as optimizer\n",
    "from matplotlib import pyplot as plt\n",
    "from tqdm import tqdm\n",
    "import torch.nn as nn\n",
    "import math\n",
    "import torch.nn.functional as F\n",
    "from IPython.display import clear_output"
   ]
  },
  {
   "cell_type": "code",
   "execution_count": 1179,
   "id": "b41bd12b",
   "metadata": {
    "cellId": "6gqwddivc0q9wq9216x2ib"
   },
   "outputs": [],
   "source": [
    "#!g1.1\n",
    "def KLD(x_true, p_true, x_pred, sig):\n",
    "    batch_size, pNumber, _ = x_true.size()\n",
    "    return 0.5 * np.log(2 * np.pi) - torch.logsumexp(p_true.view(batch_size, pNumber, 1) - net.square_dist(x_true, x_pred).squeeze(-1) / (2 * sig**2), dim=1).mean()\n",
    "\n",
    "def sKLD(x_true, p_true, x_pred, sig):\n",
    "    # symmetric KLD\n",
    "    batch_size, pNumber, _ = x_true.size()\n",
    "    inp1 = torch.logsumexp(p_true.view(batch_size, pNumber, 1) - net.square_dist(x_true, x_pred).squeeze(-1) / (2 * sig**2), dim=1).mean()\n",
    "    p_pred = -np.log(pNumber)*torch.ones(batch_size, pNumber, 1).double().to(device)\n",
    "    inp2 = pNumber * (p_true.exp()*torch.logsumexp(p_pred - net.square_dist(x_pred, x_true).squeeze(-1) / (2 * sig**2), dim=1)).mean()\n",
    "    return -0.5 * (inp1 + inp2)"
   ]
  },
  {
   "cell_type": "code",
   "execution_count": 1180,
   "id": "93d737e7",
   "metadata": {
    "cellId": "qa8x4qgk5nakc2q47msuke"
   },
   "outputs": [
    {
     "ename": "OSError",
     "evalue": "particles_data_2.csv not found.",
     "output_type": "error",
     "traceback": [
      "\u001b[0;31m---------------------------------------------------------------------------\u001b[0m",
      "\u001b[0;31mOSError\u001b[0m                                   Traceback (most recent call last)",
      "\u001b[0;32m<ipython-input-3-87b7b9b3bce7>\u001b[0m in \u001b[0;36m<module>\u001b[0;34m\u001b[0m\n\u001b[1;32m      8\u001b[0m \u001b[0mpNumber\u001b[0m \u001b[0;34m=\u001b[0m \u001b[0;36m50\u001b[0m\u001b[0;34m\u001b[0m\u001b[0;34m\u001b[0m\u001b[0m\n\u001b[1;32m      9\u001b[0m \u001b[0;34m\u001b[0m\u001b[0m\n\u001b[0;32m---> 10\u001b[0;31m \u001b[0mread_data\u001b[0m \u001b[0;34m=\u001b[0m \u001b[0mnp\u001b[0m\u001b[0;34m.\u001b[0m\u001b[0mloadtxt\u001b[0m\u001b[0;34m(\u001b[0m\u001b[0;34m'particles_data_'\u001b[0m\u001b[0;34m+\u001b[0m\u001b[0mstr\u001b[0m\u001b[0;34m(\u001b[0m\u001b[0mx_dim\u001b[0m\u001b[0;34m)\u001b[0m\u001b[0;34m+\u001b[0m\u001b[0;34m'.csv'\u001b[0m\u001b[0;34m,\u001b[0m \u001b[0mdelimiter\u001b[0m\u001b[0;34m=\u001b[0m\u001b[0;34m','\u001b[0m\u001b[0;34m)\u001b[0m\u001b[0;34m\u001b[0m\u001b[0;34m\u001b[0m\u001b[0m\n\u001b[0m\u001b[1;32m     11\u001b[0m \u001b[0mxp\u001b[0m \u001b[0;34m=\u001b[0m \u001b[0mread_data\u001b[0m\u001b[0;34m.\u001b[0m\u001b[0mreshape\u001b[0m\u001b[0;34m(\u001b[0m\u001b[0mread_data\u001b[0m\u001b[0;34m.\u001b[0m\u001b[0mshape\u001b[0m\u001b[0;34m[\u001b[0m\u001b[0;36m0\u001b[0m\u001b[0;34m]\u001b[0m \u001b[0;34m//\u001b[0m \u001b[0mpNumber\u001b[0m\u001b[0;34m,\u001b[0m \u001b[0mpNumber\u001b[0m\u001b[0;34m,\u001b[0m \u001b[0mx_dim\u001b[0m \u001b[0;34m+\u001b[0m \u001b[0;36m1\u001b[0m\u001b[0;34m)\u001b[0m\u001b[0;34m\u001b[0m\u001b[0;34m\u001b[0m\u001b[0m\n\u001b[1;32m     12\u001b[0m \u001b[0;34m\u001b[0m\u001b[0m\n",
      "\u001b[0;32m/kernel/fallback/lib/python3.8/site-packages/numpy/lib/npyio.py\u001b[0m in \u001b[0;36mloadtxt\u001b[0;34m(fname, dtype, comments, delimiter, converters, skiprows, usecols, unpack, ndmin, encoding, max_rows)\u001b[0m\n\u001b[1;32m    959\u001b[0m             \u001b[0mfname\u001b[0m \u001b[0;34m=\u001b[0m \u001b[0mos_fspath\u001b[0m\u001b[0;34m(\u001b[0m\u001b[0mfname\u001b[0m\u001b[0;34m)\u001b[0m\u001b[0;34m\u001b[0m\u001b[0;34m\u001b[0m\u001b[0m\n\u001b[1;32m    960\u001b[0m         \u001b[0;32mif\u001b[0m \u001b[0m_is_string_like\u001b[0m\u001b[0;34m(\u001b[0m\u001b[0mfname\u001b[0m\u001b[0;34m)\u001b[0m\u001b[0;34m:\u001b[0m\u001b[0;34m\u001b[0m\u001b[0;34m\u001b[0m\u001b[0m\n\u001b[0;32m--> 961\u001b[0;31m             \u001b[0mfh\u001b[0m \u001b[0;34m=\u001b[0m \u001b[0mnp\u001b[0m\u001b[0;34m.\u001b[0m\u001b[0mlib\u001b[0m\u001b[0;34m.\u001b[0m\u001b[0m_datasource\u001b[0m\u001b[0;34m.\u001b[0m\u001b[0mopen\u001b[0m\u001b[0;34m(\u001b[0m\u001b[0mfname\u001b[0m\u001b[0;34m,\u001b[0m \u001b[0;34m'rt'\u001b[0m\u001b[0;34m,\u001b[0m \u001b[0mencoding\u001b[0m\u001b[0;34m=\u001b[0m\u001b[0mencoding\u001b[0m\u001b[0;34m)\u001b[0m\u001b[0;34m\u001b[0m\u001b[0;34m\u001b[0m\u001b[0m\n\u001b[0m\u001b[1;32m    962\u001b[0m             \u001b[0mfencoding\u001b[0m \u001b[0;34m=\u001b[0m \u001b[0mgetattr\u001b[0m\u001b[0;34m(\u001b[0m\u001b[0mfh\u001b[0m\u001b[0;34m,\u001b[0m \u001b[0;34m'encoding'\u001b[0m\u001b[0;34m,\u001b[0m \u001b[0;34m'latin1'\u001b[0m\u001b[0;34m)\u001b[0m\u001b[0;34m\u001b[0m\u001b[0;34m\u001b[0m\u001b[0m\n\u001b[1;32m    963\u001b[0m             \u001b[0mfh\u001b[0m \u001b[0;34m=\u001b[0m \u001b[0miter\u001b[0m\u001b[0;34m(\u001b[0m\u001b[0mfh\u001b[0m\u001b[0;34m)\u001b[0m\u001b[0;34m\u001b[0m\u001b[0;34m\u001b[0m\u001b[0m\n",
      "\u001b[0;32m/kernel/fallback/lib/python3.8/site-packages/numpy/lib/_datasource.py\u001b[0m in \u001b[0;36mopen\u001b[0;34m(path, mode, destpath, encoding, newline)\u001b[0m\n\u001b[1;32m    193\u001b[0m \u001b[0;34m\u001b[0m\u001b[0m\n\u001b[1;32m    194\u001b[0m     \u001b[0mds\u001b[0m \u001b[0;34m=\u001b[0m \u001b[0mDataSource\u001b[0m\u001b[0;34m(\u001b[0m\u001b[0mdestpath\u001b[0m\u001b[0;34m)\u001b[0m\u001b[0;34m\u001b[0m\u001b[0;34m\u001b[0m\u001b[0m\n\u001b[0;32m--> 195\u001b[0;31m     \u001b[0;32mreturn\u001b[0m \u001b[0mds\u001b[0m\u001b[0;34m.\u001b[0m\u001b[0mopen\u001b[0m\u001b[0;34m(\u001b[0m\u001b[0mpath\u001b[0m\u001b[0;34m,\u001b[0m \u001b[0mmode\u001b[0m\u001b[0;34m,\u001b[0m \u001b[0mencoding\u001b[0m\u001b[0;34m=\u001b[0m\u001b[0mencoding\u001b[0m\u001b[0;34m,\u001b[0m \u001b[0mnewline\u001b[0m\u001b[0;34m=\u001b[0m\u001b[0mnewline\u001b[0m\u001b[0;34m)\u001b[0m\u001b[0;34m\u001b[0m\u001b[0;34m\u001b[0m\u001b[0m\n\u001b[0m\u001b[1;32m    196\u001b[0m \u001b[0;34m\u001b[0m\u001b[0m\n\u001b[1;32m    197\u001b[0m \u001b[0;34m\u001b[0m\u001b[0m\n",
      "\u001b[0;32m/kernel/fallback/lib/python3.8/site-packages/numpy/lib/_datasource.py\u001b[0m in \u001b[0;36mopen\u001b[0;34m(self, path, mode, encoding, newline)\u001b[0m\n\u001b[1;32m    533\u001b[0m                                       encoding=encoding, newline=newline)\n\u001b[1;32m    534\u001b[0m         \u001b[0;32melse\u001b[0m\u001b[0;34m:\u001b[0m\u001b[0;34m\u001b[0m\u001b[0;34m\u001b[0m\u001b[0m\n\u001b[0;32m--> 535\u001b[0;31m             \u001b[0;32mraise\u001b[0m \u001b[0mIOError\u001b[0m\u001b[0;34m(\u001b[0m\u001b[0;34m\"%s not found.\"\u001b[0m \u001b[0;34m%\u001b[0m \u001b[0mpath\u001b[0m\u001b[0;34m)\u001b[0m\u001b[0;34m\u001b[0m\u001b[0;34m\u001b[0m\u001b[0m\n\u001b[0m\u001b[1;32m    536\u001b[0m \u001b[0;34m\u001b[0m\u001b[0m\n\u001b[1;32m    537\u001b[0m \u001b[0;34m\u001b[0m\u001b[0m\n",
      "\u001b[0;31mOSError\u001b[0m: particles_data_2.csv not found."
     ]
    }
   ],
   "source": [
    "#!g1.1\n",
    "x_uni = torch.distributions.uniform.Uniform(low=-1, high=1)\n",
    "device = 'cuda:0' if torch.cuda.is_available() else 'cpu'\n",
    "\n",
    "hidden_dim = 32\n",
    "batch_size = 1024\n",
    "num_heads = 4\n",
    "x_dim = 2\n",
    "pNumber = 50\n",
    "\n",
    "read_data = np.loadtxt('particles_data_'+str(x_dim)+'.csv', delimiter=',')\n",
    "xp = read_data.reshape(read_data.shape[0] // pNumber, pNumber, x_dim + 1)\n",
    "\n",
    "x1 = torch.from_numpy(xp[:, :, :-1]).double().to(device)\n",
    "p1 = torch.from_numpy(xp[:, :, -1]).double().to(device)"
   ]
  },
  {
   "cell_type": "code",
   "execution_count": 1181,
   "id": "b429936a",
   "metadata": {
    "cellId": "09856dub1ff7li1e4icu3f"
   },
   "outputs": [],
   "source": [
    "#!g1.1\n",
    "train_dataset = TensorDataset(x1[:int(0.7*len(xp))], p1[:int(0.7*len(xp))])\n",
    "val_dataset = TensorDataset(x1[int(0.7*len(xp)):int(0.9*len(xp))], p1[int(0.7*len(xp)):int(0.9*len(xp))])\n",
    "test_dataset = TensorDataset(x1[int(0.9*len(xp)):], p1[int(0.9*len(xp)):])\n",
    "\n",
    "train_loader = DataLoader(train_dataset, batch_size=batch_size, shuffle=True)\n",
    "val_loader = DataLoader(val_dataset, batch_size=batch_size, shuffle=False)\n",
    "test_loader = DataLoader(test_dataset, batch_size=batch_size, shuffle=False)"
   ]
  },
  {
   "cell_type": "code",
   "execution_count": 1182,
   "id": "64cd358f",
   "metadata": {
    "cellId": "tkx39yokrn99ifmuzvhawp"
   },
   "outputs": [],
   "source": [
    "#!g1.1\n",
    "def SDP_weight(k, v, q, weight):\n",
    "    d_k = q.size()[-1]\n",
    "    attn_logits = torch.matmul(q, k.transpose(-2, -1)) / math.sqrt(d_k)\n",
    "    attention = F.softmax(attn_logits, dim=-1)\n",
    "    values = torch.matmul(weight*attention, v)\n",
    "    return values, attention\n",
    "\n",
    "class MHA_weight(nn.Module):\n",
    "    def __init__(self, embed_dim, num_heads):\n",
    "        super().__init__()\n",
    "        self.embed_dim = embed_dim\n",
    "        self.num_heads = num_heads\n",
    "        self.head_dim = embed_dim // num_heads\n",
    "\n",
    "        self.o_proj = nn.Linear(embed_dim, embed_dim)\n",
    "        self.linear_k = nn.Linear(embed_dim, embed_dim)\n",
    "        self.linear_v = nn.Linear(embed_dim, embed_dim)\n",
    "        self.linear_q = nn.Linear(embed_dim, embed_dim)\n",
    "\n",
    "    def forward(self, x1, x2, x3, weight, return_attention=False):\n",
    "        k, v, q = self.linear_k(x1), self.linear_v(x2), self.linear_q(x3)\n",
    "        batch_size, seq_length, embed_dim = x1.size()\n",
    "        weight = weight.unsqueeze(2)\n",
    "        weight = weight.repeat(1, 1, self.num_heads, 1)\n",
    "        weight = weight.permute(0, 2, 1, 3)\n",
    "        \n",
    "        k = self._reshape_to_batches(k)\n",
    "        v = self._reshape_to_batches(v)\n",
    "        q = self._reshape_to_batches(q)\n",
    "        \n",
    "        # Determine value outputs\n",
    "        values, attention = SDP_weight(k, v, q, weight)\n",
    "        values = values.permute(0, 2, 1, 3) # [Batch, SeqLen, Head, Dims]\n",
    "        values = values.reshape(batch_size, seq_length, embed_dim)\n",
    "        out = self.o_proj(values)\n",
    "        return out\n",
    "\n",
    "    def _reshape_to_batches(self, x):\n",
    "        batch_size, seq_len, in_feature = x.size()\n",
    "        sub_dim = in_feature // self.num_heads\n",
    "        return x.reshape(batch_size, seq_len, self.num_heads, sub_dim).permute(0, 2, 1, 3)\n",
    "\n",
    "class Encoder(nn.Module):\n",
    "    def __init__(self, x_dim, hidden_dim, num_heads, pNumber):\n",
    "        super(Encoder, self).__init__()\n",
    "        self.num_particles = pNumber\n",
    "        self.hidden_dim = hidden_dim\n",
    "        self.num_heads = num_heads\n",
    "        self.x_dim = x_dim\n",
    "        self.self_att1 = MHA_weight(self.hidden_dim, self.num_heads).double().to(device)\n",
    "\n",
    "        self.output_layer = nn.Sequential(\n",
    "            nn.Linear(self.hidden_dim, 2*self.hidden_dim),\n",
    "            nn.LeakyReLU(),\n",
    "            nn.Dropout(0.1),\n",
    "            nn.Linear(2*self.hidden_dim, self.hidden_dim)\n",
    "            )\n",
    "\n",
    "    def forward(self, x, p):\n",
    "        # pointwise dense input layer\n",
    "        weight = p.exp().unsqueeze(2).repeat(1, 1, self.num_particles)\n",
    "        # weighted multihead attention\n",
    "        x = self.self_att1(x, x, x, weight) + x\n",
    "        # pointwise 2-layer feed-forward\n",
    "        x = self.output_layer(x) + x\n",
    "        return x#, x_min, x_max\n",
    "\n",
    "class Decoder(nn.Module):\n",
    "    def __init__(self, x_dim, hidden_dim, num_heads, pNumber):\n",
    "        super(Decoder, self).__init__()\n",
    "        self.num_particles = pNumber\n",
    "        self.hidden_dim = hidden_dim\n",
    "        self.num_heads = num_heads\n",
    "        self.x_dim = x_dim\n",
    "        self.self_att1 = nn.MultiheadAttention(self.hidden_dim, self.num_heads, batch_first=True).double().to(device)\n",
    "        self.att_weighted = MHA_weight(self.hidden_dim, self.num_heads).double().to(device)\n",
    "        self.two_layers = nn.Sequential(\n",
    "            nn.Linear(self.hidden_dim, 2*self.hidden_dim),\n",
    "            nn.LeakyReLU(),\n",
    "            nn.Dropout(0.1),\n",
    "            nn.Linear(2*self.hidden_dim, self.hidden_dim),\n",
    "            )\n",
    "\n",
    "    def forward(self, x_enc, x_dec, p):\n",
    "        y = self.self_att1(x_dec, x_dec, x_dec)[0] + x_dec\n",
    "        weight = p.exp().unsqueeze(2).repeat(1, 1, self.num_particles)\n",
    "        y = self.att_weighted(x_enc, x_enc, x_dec, weight) + y\n",
    "        y = self.two_layers(y) + y\n",
    "        return y\n",
    "\n",
    "class Converter(nn.Module):\n",
    "    def __init__(self, x_dim, hidden_dim, num_heads, pNumber, sig = 0.02, enc=Encoder(x_dim, hidden_dim, num_heads, pNumber), dec=Decoder(x_dim, hidden_dim, num_heads,pNumber)):\n",
    "        super(Converter, self).__init__()\n",
    "        self.x_dim = x_dim\n",
    "        self.hidden_dim = hidden_dim\n",
    "        self.first_linear = nn.Linear(self.x_dim, self.hidden_dim)\n",
    "        self.last_linear = nn.Linear(self.hidden_dim, self.x_dim)\n",
    "        self.num_particles = pNumber\n",
    "        self.num_heads = num_heads\n",
    "        self.enc = enc.double().to(device)\n",
    "        self.dec = dec.double().to(device)\n",
    "\n",
    "    def init_seed(self, batch_size):\n",
    "        return torch.randn(batch_size, self.num_particles, self.hidden_dim).double().to(device)\n",
    "    \n",
    "    def forward(self, x0, p, eps=1e-12):\n",
    "        mins, maxs = torch.amin(x0, dim=(1), keepdim=True), torch.amax(x0, dim=(1), keepdim=True)\n",
    "        means = (mins + maxs) / 2\n",
    "        delta = (maxs - mins)\n",
    "        x0 = (x0 - means) / (delta + eps)\n",
    "        x = self.first_linear(x0)\n",
    "        x = self.enc(x, p)\n",
    "        x = self.enc(x, p)\n",
    "        batch_size = p.size(0)\n",
    "        y = self.init_seed(batch_size)\n",
    "        y = self.dec(x, y, p)\n",
    "        y = self.dec(x, y, p)\n",
    "        y0 = self.last_linear(y)\n",
    "        loss = sKLD(x0, p, y0, sig)\n",
    "        return y0 * (delta + eps) + means, loss\n",
    "\n",
    "    def square_dist(self, x, y):\n",
    "        D = torch.cdist(x, y, p=2.0, compute_mode='use_mm_for_euclid_dist_if_necessary')**2\n",
    "        return D"
   ]
  },
  {
   "cell_type": "code",
   "execution_count": 1144,
   "id": "6052b76d",
   "metadata": {
    "cellId": "2kuro7z2rhsuuago37q0ld"
   },
   "outputs": [
    {
     "data": {
      "image/png": "[encoded data removed]",
      "text/plain": [
       "<Figure size 432x288 with 1 Axes>"
      ]
     },
     "metadata": {
      "needs_background": "light"
     },
     "output_type": "display_data"
    },
    {
     "name": "stderr",
     "output_type": "stream",
     "text": [
      "5it [00:00, 12.36it/s]\n"
     ]
    },
    {
     "ename": "KeyboardInterrupt",
     "evalue": "",
     "output_type": "error",
     "traceback": [
      "\u001b[0;31m---------------------------------------------------------------------------\u001b[0m",
      "\u001b[0;31mKeyboardInterrupt\u001b[0m                         Traceback (most recent call last)",
      "\u001b[0;32m<ipython-input-10-8733ec3f07e9>\u001b[0m in \u001b[0;36m<module>\u001b[0;34m\u001b[0m\n\u001b[1;32m     19\u001b[0m         \u001b[0mpred_x\u001b[0m\u001b[0;34m,\u001b[0m \u001b[0mloss\u001b[0m\u001b[0;34m,\u001b[0m \u001b[0m_\u001b[0m \u001b[0;34m=\u001b[0m \u001b[0mnet\u001b[0m\u001b[0;34m(\u001b[0m\u001b[0mx1\u001b[0m\u001b[0;34m,\u001b[0m \u001b[0mp1\u001b[0m\u001b[0;34m)\u001b[0m\u001b[0;34m\u001b[0m\u001b[0;34m\u001b[0m\u001b[0m\n\u001b[1;32m     20\u001b[0m         \u001b[0mbatch_size\u001b[0m \u001b[0;34m=\u001b[0m \u001b[0mx1\u001b[0m\u001b[0;34m.\u001b[0m\u001b[0msize\u001b[0m\u001b[0;34m(\u001b[0m\u001b[0;36m0\u001b[0m\u001b[0;34m)\u001b[0m\u001b[0;34m\u001b[0m\u001b[0;34m\u001b[0m\u001b[0m\n\u001b[0;32m---> 21\u001b[0;31m         \u001b[0mloss\u001b[0m\u001b[0;34m.\u001b[0m\u001b[0mbackward\u001b[0m\u001b[0;34m(\u001b[0m\u001b[0;34m)\u001b[0m\u001b[0;34m\u001b[0m\u001b[0;34m\u001b[0m\u001b[0m\n\u001b[0m\u001b[1;32m     22\u001b[0m         \u001b[0mtorch\u001b[0m\u001b[0;34m.\u001b[0m\u001b[0mnn\u001b[0m\u001b[0;34m.\u001b[0m\u001b[0mutils\u001b[0m\u001b[0;34m.\u001b[0m\u001b[0mclip_grad_norm_\u001b[0m\u001b[0;34m(\u001b[0m\u001b[0mnet\u001b[0m\u001b[0;34m.\u001b[0m\u001b[0mparameters\u001b[0m\u001b[0;34m(\u001b[0m\u001b[0;34m)\u001b[0m\u001b[0;34m,\u001b[0m \u001b[0mgrad_clip\u001b[0m\u001b[0;34m)\u001b[0m\u001b[0;34m\u001b[0m\u001b[0;34m\u001b[0m\u001b[0m\n\u001b[1;32m     23\u001b[0m         \u001b[0mopt\u001b[0m\u001b[0;34m.\u001b[0m\u001b[0mstep\u001b[0m\u001b[0;34m(\u001b[0m\u001b[0;34m)\u001b[0m\u001b[0;34m\u001b[0m\u001b[0;34m\u001b[0m\u001b[0m\n",
      "\u001b[0;32m/usr/local/lib/python3.8/dist-packages/torch/_tensor.py\u001b[0m in \u001b[0;36mbackward\u001b[0;34m(self, gradient, retain_graph, create_graph, inputs)\u001b[0m\n\u001b[1;32m    253\u001b[0m                 \u001b[0mcreate_graph\u001b[0m\u001b[0;34m=\u001b[0m\u001b[0mcreate_graph\u001b[0m\u001b[0;34m,\u001b[0m\u001b[0;34m\u001b[0m\u001b[0;34m\u001b[0m\u001b[0m\n\u001b[1;32m    254\u001b[0m                 inputs=inputs)\n\u001b[0;32m--> 255\u001b[0;31m         \u001b[0mtorch\u001b[0m\u001b[0;34m.\u001b[0m\u001b[0mautograd\u001b[0m\u001b[0;34m.\u001b[0m\u001b[0mbackward\u001b[0m\u001b[0;34m(\u001b[0m\u001b[0mself\u001b[0m\u001b[0;34m,\u001b[0m \u001b[0mgradient\u001b[0m\u001b[0;34m,\u001b[0m \u001b[0mretain_graph\u001b[0m\u001b[0;34m,\u001b[0m \u001b[0mcreate_graph\u001b[0m\u001b[0;34m,\u001b[0m \u001b[0minputs\u001b[0m\u001b[0;34m=\u001b[0m\u001b[0minputs\u001b[0m\u001b[0;34m)\u001b[0m\u001b[0;34m\u001b[0m\u001b[0;34m\u001b[0m\u001b[0m\n\u001b[0m\u001b[1;32m    256\u001b[0m \u001b[0;34m\u001b[0m\u001b[0m\n\u001b[1;32m    257\u001b[0m     \u001b[0;32mdef\u001b[0m \u001b[0mregister_hook\u001b[0m\u001b[0;34m(\u001b[0m\u001b[0mself\u001b[0m\u001b[0;34m,\u001b[0m \u001b[0mhook\u001b[0m\u001b[0;34m)\u001b[0m\u001b[0;34m:\u001b[0m\u001b[0;34m\u001b[0m\u001b[0;34m\u001b[0m\u001b[0m\n",
      "\u001b[0;32m/usr/local/lib/python3.8/dist-packages/torch/autograd/__init__.py\u001b[0m in \u001b[0;36mbackward\u001b[0;34m(tensors, grad_tensors, retain_graph, create_graph, grad_variables, inputs)\u001b[0m\n\u001b[1;32m    145\u001b[0m         \u001b[0mretain_graph\u001b[0m \u001b[0;34m=\u001b[0m \u001b[0mcreate_graph\u001b[0m\u001b[0;34m\u001b[0m\u001b[0;34m\u001b[0m\u001b[0m\n\u001b[1;32m    146\u001b[0m \u001b[0;34m\u001b[0m\u001b[0m\n\u001b[0;32m--> 147\u001b[0;31m     Variable._execution_engine.run_backward(\n\u001b[0m\u001b[1;32m    148\u001b[0m         \u001b[0mtensors\u001b[0m\u001b[0;34m,\u001b[0m \u001b[0mgrad_tensors_\u001b[0m\u001b[0;34m,\u001b[0m \u001b[0mretain_graph\u001b[0m\u001b[0;34m,\u001b[0m \u001b[0mcreate_graph\u001b[0m\u001b[0;34m,\u001b[0m \u001b[0minputs\u001b[0m\u001b[0;34m,\u001b[0m\u001b[0;34m\u001b[0m\u001b[0;34m\u001b[0m\u001b[0m\n\u001b[1;32m    149\u001b[0m         allow_unreachable=True, accumulate_grad=True)  # allow_unreachable flag\n",
      "\u001b[0;31mKeyboardInterrupt\u001b[0m: "
     ]
    }
   ],
   "source": [
    "#!g1.1\n",
    "epochs = 50000\n",
    "\n",
    "sig = 0.02\n",
    "net = Converter(x_dim, hidden_dim, num_heads, pNumber, sig).double().to(device)\n",
    "opt = torch.optim.RMSprop(net.parameters(), lr=1e-3)\n",
    "\n",
    "\n",
    "train_loss = []\n",
    "val_loss = []\n",
    "best_loss = np.Inf\n",
    "grad_clip = 5\n",
    "for epoch in range(epochs):\n",
    "    loss1_tot = 0\n",
    "    loss2_tot = 0\n",
    "    loss_tot = 0\n",
    "    net.train()\n",
    "    for i, xp1 in tqdm(enumerate(train_loader)):\n",
    "        x1, p1 = xp1[0].to(device), xp1[1].to(device)\n",
    "        opt.zero_grad()\n",
    "        pred_x, loss = net(x1, p1)\n",
    "        loss.backward()\n",
    "        loss_tot += loss.item()\n",
    "        torch.nn.utils.clip_grad_norm_(net.parameters(), grad_clip)\n",
    "        opt.step()\n",
    "\n",
    "    train_loss.append(loss_tot/(i+1))\n",
    "    loss1_tot = 0\n",
    "    loss2_tot = 0\n",
    "    loss_tot = 0\n",
    "    net.eval()\n",
    "    for i, xp1 in enumerate(val_loader):\n",
    "        with torch.no_grad():\n",
    "            x1, p1 = xp1[0].to(device), xp1[1].to(device)\n",
    "            pred_x, loss = net(x1, p1)\n",
    "            loss_tot += loss.item()\n",
    "\n",
    "    val_loss.append(loss_tot/(i+1))\n",
    "    print(epoch, train_loss[-1], val_loss[-1])\n",
    "    if val_loss[-1] < best_loss:\n",
    "        best_loss = val_loss[-1]\n",
    "        state = {\n",
    "            'epoch': epoch + 1,\n",
    "            'state_dict': net.state_dict(),\n",
    "            'optimizer': opt.state_dict(),\n",
    "        }\n",
    "        torch.save(state, 'att_model'+str(x_dim)+'.ptm')\n",
    "\n",
    "    if epoch > 10:\n",
    "        clear_output(True)\n",
    "        plt.figure()\n",
    "        #ttl = str(np.round(best_loss, 2)) + ', loss1, loss2: ' + str(np.round(loss1_tot, 3)) + ' ' + str(np.round(loss2_tot, 3))\n",
    "        plt.title(str(np.round(best_loss, 2)))\n",
    "        plt.plot((train_loss[10:]), label='train_loss')\n",
    "        plt.plot((val_loss[10:]), label='val_loss', alpha=0.5)\n",
    "        plt.legend()\n",
    "        plt.show()"
   ]
  },
  {
   "cell_type": "code",
   "execution_count": 1150,
   "id": "e3a94058",
   "metadata": {
    "cellId": "00h4djdsyi17uyf5e4s18n"
   },
   "outputs": [
    {
     "name": "stdout",
     "output_type": "stream",
     "text": [
      "epoch:  33474\n",
      "test loss 10.014281626624056\n"
     ]
    }
   ],
   "source": [
    "#!g1.1\n",
    "def load_checkpoint(filepath='att_model'+str(x_dim)+'.ptm'):\n",
    "    checkpoint = torch.load(filepath)\n",
    "    print('epoch: ', checkpoint['epoch'])\n",
    "    net.load_state_dict(checkpoint['state_dict'])\n",
    "    for p in net.parameters():\n",
    "        p.requires_grad = False\n",
    "    net.eval()\n",
    "    return net\n",
    "\n",
    "net_read = Converter(x_dim, hidden_dim, num_heads, pNumber).double().to(device)\n",
    "net_read = load_checkpoint()\n",
    "\n",
    "net_read.eval()\n",
    "loss1 = 0\n",
    "for i, xp1 in enumerate(test_loader):\n",
    "    with torch.no_grad():\n",
    "        x1, p1 = xp1[0].to(device), xp1[1].to(device)\n",
    "        batch_size = x1.size(0)\n",
    "        pred_x, loss = net(x1, p1)\n",
    "        loss1 += loss.item()\n",
    "print('test loss', loss1 / (i+1))"
   ]
  },
  {
   "cell_type": "code",
   "execution_count": 1177,
   "id": "ee5ad449",
   "metadata": {
    "cellId": "ftmh4l1kmotv6wcai4vyb"
   },
   "outputs": [
    {
     "data": {
      "text/plain": [
       "<matplotlib.collections.PathCollection at 0x7fed1ab464f0>"
      ]
     },
     "execution_count": 1177,
     "metadata": {},
     "output_type": "execute_result"
    },
    {
     "data": {
      "image/png": "[encoded data removed]",
      "text/plain": [
       "<Figure size 432x288 with 1 Axes>"
      ]
     },
     "metadata": {
      "needs_background": "light"
     },
     "output_type": "display_data"
    }
   ],
   "source": [
    "#!g1.1\n",
    "y_inp = np.array([x1[indx, :].to('cpu').numpy() for indx in range(x1.size(0))])\n",
    "p_inp = np.array([p1[indx, :].to('cpu').numpy() for indx in range(p1.size(0))])\n",
    "y_pred = np.array([pred_x[indx, :].to('cpu').numpy() for indx in range(pred_x.size(0))])\n",
    "y_inp.shape, p_inp.shape, y_pred.shape"
   ]
  },
  {
   "cell_type": "code",
   "execution_count": 1175,
   "id": "5d5ab034",
   "metadata": {
    "cellId": "j00zn6w4gee7f3ukm7dgp"
   },
   "outputs": [],
   "source": [
    "#!g1.1\n",
    "x = np.linspace(-1, 1, 1000)\n",
    "y = np.linspace(-1, 1, 1000)\n",
    "def to3d(x, y, z, w):\n",
    "    w = w.reshape(w.shape[0], 1)\n",
    "    res = np.array([(w[i]*np.exp(-((X-z[i, 0])**2+(Y-z[i, 1])**2)/(2*sig**2))) for i in range(50)]).sum(axis=0)\n",
    "    return res\n",
    "X, Y = np.meshgrid(x, y)\n",
    "gaussian1 = to3d(X, Y, z1, w1)\n",
    "gaussian2 = to3d(X, Y, z2, w2)\n",
    "fig = plt.figure()\n",
    "ax = plt.axes(projection='3d')\n",
    "ax.plot_surface(X, Y, gaussian1, color='blue', alpha=0.5, label='original particles')\n",
    "ax.plot_surface(X, Y, gaussian2, color='orange', alpha=0.5, label='resampled particles')"
   ]
  },
  {
   "cell_type": "code",
   "execution_count": 1176,
   "id": "b12f84a2",
   "metadata": {
    "cellId": "y8iltgqiasq103vpnzplf"
   },
   "outputs": [],
   "source": [
    "#!g1.1\n"
   ]
  },
  {
   "cell_type": "code",
   "execution_count": null,
   "id": "805ac395",
   "metadata": {
    "cellId": "4puuroxbkifgz7jspto3m"
   },
   "outputs": [],
   "source": [
    "#!g1.1\n"
   ]
  }
 ],
 "metadata": {
  "kernelspec": {
   "display_name": "Yandex DataSphere Kernel",
   "language": "python",
   "name": "python3"
  },
  "language_info": {
   "codemirror_mode": {
    "name": "ipython",
    "version": 3
   },
   "file_extension": ".py",
   "mimetype": "text/x-python",
   "name": "python",
   "nbconvert_exporter": "python",
   "pygments_lexer": "ipython3",
   "version": "3.7.7"
  },
  "notebookId": "aef8252c-70a8-4513-bd14-bc5bc8e987fe",
  "notebookPath": "att_resamp.ipynb"
 },
 "nbformat": 4,
 "nbformat_minor": 5
}
